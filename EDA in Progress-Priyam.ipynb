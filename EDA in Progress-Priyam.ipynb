{
 "cells": [
  {
   "cell_type": "code",
   "execution_count": null,
   "metadata": {},
   "outputs": [],
   "source": [
    "\"\"\"group by authors\"\"\"\n",
    "\n",
    "\"\"\"checking distribution of gernre by author\"\"\"\n",
    "gr_auth_gen = data.groupby('Author_Name')['guten_genre'].value_counts().to_frame()\n",
    "gr_auth_gen.columns = [*gr_auth_gen.columns[:-1], 'Count']\n",
    "print(gr_auth_gen.head(5))\n",
    "print(gr_auth_gen.shape)\n",
    "\n",
    "\"\"\"checking how many books an author has written\"\"\"\n",
    "#gr_auth_id = data.groupby('Author_Name')['book_id'].value_counts()\n",
    "\n",
    "plt.figure(figsize=(10,50))\n",
    "sns.barplot(x=data.groupby('Author_Name')['guten_genre'].value_counts(), y=data['Author_Name'], data=data)\n",
    "plt.show()\n",
    "\n",
    "\n"
   ]
  },
  {
   "cell_type": "code",
   "execution_count": null,
   "metadata": {},
   "outputs": [],
   "source": [
    "from sklearn.feature_extraction.text import CountVectorizer\n",
    "vectorizer = CountVectorizer()\n",
    "\n",
    "data=['i am student','the student suffers a lot']\n",
    "transformed_data =vectorizer.fit_transform(data)\n",
    "print(vectorizer.get_feature_names())\n",
    "print(transformed_data.toarray())\n",
    "vocab= {a: b for a, b in zip(vectorizer.get_feature_names(), np.ravel(transformed_data.sum(axis=1)))}\n",
    "print(transformed_data.toarray().sum(axis=1))\n"
   ]
  }
 ],
 "metadata": {
  "kernelspec": {
   "display_name": "Python 3",
   "language": "python",
   "name": "python3"
  },
  "language_info": {
   "codemirror_mode": {
    "name": "ipython",
    "version": 3
   },
   "file_extension": ".py",
   "mimetype": "text/x-python",
   "name": "python",
   "nbconvert_exporter": "python",
   "pygments_lexer": "ipython3",
   "version": "3.7.6"
  }
 },
 "nbformat": 4,
 "nbformat_minor": 4
}
