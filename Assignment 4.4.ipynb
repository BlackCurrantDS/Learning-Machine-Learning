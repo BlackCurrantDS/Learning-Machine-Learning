{
 "cells": [
  {
   "cell_type": "code",
   "execution_count": 1,
   "metadata": {},
   "outputs": [
    {
     "name": "stdout",
     "output_type": "stream",
     "text": [
      "Logistic regression accuracy: 87.59%\n",
      "Decision tree accuracy: 67.46%\n"
     ]
    }
   ],
   "source": [
    "\n",
    "#4.4 a)\n",
    "\n",
    "\"\"\"getting categories\"\"\"\n",
    "categories = ['alt.atheism', 'soc.religion.christian',\n",
    "              'comp.graphics', 'sci.med']\n",
    "remove = ('headers', 'footers', 'quotes')\n",
    "\n",
    "#fecthing tarinign data\n",
    "\n",
    "from sklearn.datasets import fetch_20newsgroups\n",
    "\n",
    "t_data = fetch_20newsgroups(subset='all', categories=categories, shuffle=True, random_state=42, remove= remove)\n",
    "\n",
    "x = t_data.data\n",
    "y= t_data.target\n",
    "\n",
    "from sklearn.model_selection import train_test_split\n",
    "\n",
    "x_train, x_test, y_train, y_test = train_test_split(x, y,random_state=42,test_size=0.3)\n",
    "\n",
    "\n",
    "\n",
    "from sklearn.feature_extraction.text import TfidfVectorizer\n",
    "\n",
    "vectorizer = TfidfVectorizer(sublinear_tf=True, \n",
    "                                 stop_words='english')\n",
    "\n",
    "x_train_v = vectorizer.fit_transform(x_train)\n",
    "x_test = vectorizer.transform(x_test)\n",
    "\n",
    "\n",
    "from sklearn.linear_model import LogisticRegression\n",
    "from sklearn.tree import DecisionTreeClassifier\n",
    "clf_R = LogisticRegression(solver = 'sag')\n",
    "clf_D = DecisionTreeClassifier()\n",
    "\n",
    "from sklearn import metrics\n",
    "\n",
    "score_R = clf_R.fit(x_train_v, y_train).score(x_test,y_test)\n",
    "score_D = clf_D.fit(x_train_v, y_train).score(x_test,y_test)\n",
    "\n",
    "print('Logistic regression accuracy: %.2f%%' % (score_R*100))\n",
    "print('Decision tree accuracy: %.2f%%' % (score_D*100))\n"
   ]
  },
  {
   "cell_type": "code",
   "execution_count": null,
   "metadata": {},
   "outputs": [],
   "source": [
    "# 4.4 b)\n",
    "\n",
    "Null hypothesis = Logistic regression shall perform 30% better than Decision tree on this data\n",
    "Alternative hypothesis -  eveyting else\n"
   ]
  },
  {
   "cell_type": "code",
   "execution_count": 2,
   "metadata": {},
   "outputs": [
    {
     "name": "stdout",
     "output_type": "stream",
     "text": [
      "t statistic: 12.122\n",
      "p value: 0.000\n"
     ]
    }
   ],
   "source": [
    "# 4.4. c)\n",
    "\n",
    "from mlxtend.evaluate import paired_ttest_5x2cv\n",
    "\n",
    "x = vectorizer.fit_transform(x)\n",
    "t, p = paired_ttest_5x2cv(estimator1=clf_R,\n",
    "                          estimator2=clf_D,\n",
    "                          X=x, y=y,\n",
    "                          random_seed=1)\n",
    "\n",
    "print('t statistic: %.3f' % t)\n",
    "print('p value: %.3f' % p)"
   ]
  },
  {
   "cell_type": "code",
   "execution_count": null,
   "metadata": {},
   "outputs": [],
   "source": []
  }
 ],
 "metadata": {
  "kernelspec": {
   "display_name": "Python 3",
   "language": "python",
   "name": "python3"
  },
  "language_info": {
   "codemirror_mode": {
    "name": "ipython",
    "version": 3
   },
   "file_extension": ".py",
   "mimetype": "text/x-python",
   "name": "python",
   "nbconvert_exporter": "python",
   "pygments_lexer": "ipython3",
   "version": "3.7.6"
  }
 },
 "nbformat": 4,
 "nbformat_minor": 4
}
