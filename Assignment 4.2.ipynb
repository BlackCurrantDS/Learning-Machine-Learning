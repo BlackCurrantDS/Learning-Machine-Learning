{
 "cells": [
  {
   "cell_type": "code",
   "execution_count": 2,
   "metadata": {},
   "outputs": [
    {
     "data": {
      "text/plain": [
       "'\\n\\n# Defines ratios, w.r.t. whole dataset.\\nratio_train = 0.5\\nratio_val = 0.25\\nratio_test = 0.25\\n\\n# Produces test split.\\nx_remaining, x_test, y_remaining, y_test = train_test_split(\\n    x, y, test_size=test_ratio)\\n\\n# Adjusts val ratio, w.r.t. remaining dataset.\\nratio_remaining = 1 - ratio_test\\nratio_val_adjusted = ratio_val / ratio_remaining\\n\\n# Produces train and val splits.\\nx_train, x_val, y_train, y_val = train_test_split(\\n    x_remaining, y_remaining, test_size=ratio_val_adjusted)\\nSince the remaining dataset is reduced after the first split, new ratios with respect to the reduced dataset must be calculated by solving the equation:\\n\\nRremaining⋅Rnew=Rold\\n\\n\\n\\n'"
      ]
     },
     "execution_count": 2,
     "metadata": {},
     "output_type": "execute_result"
    }
   ],
   "source": [
    "# Question 4.2 a\n",
    "from sklearn import datasets\n",
    "from sklearn.model_selection import train_test_split\n",
    "iris = datasets.load_iris()\n",
    "X= iris.data\n",
    "y=iris.target\n",
    "\n",
    "# a) randomly split data into train, validation and test\n",
    "X_train_o, X_test, y_train_o, y_test = train_test_split(X, y, test_size=0.25, random_state=42)\n",
    "\n",
    "X_train, X_val, y_train, y_val = train_test_split(X_train_o, y_train_o, test_size=0.34, random_state=42) # 0.34 x 0.75 = 0.25\n",
    "\n",
    "#Question about the randomly chosen\n",
    "\n",
    "\"\"\"\n",
    "\n",
    "train_ratio = 0.75\n",
    "validation_ratio = 0.15\n",
    "test_ratio = 0.10\n",
    "\n",
    "# train is now 75% of the entire data set\n",
    "# the _junk suffix means that we drop that variable completely\n",
    "x_train, x_test, y_train, y_test = train_test_split(dataX, dataY, test_size=1 - train_ratio)\n",
    "\n",
    "# test is now 10% of the initial data set\n",
    "# validation is now 15% of the initial data set\n",
    "x_val, x_test, y_val, y_test = train_test_split(x_test, y_test, test_size=test_ratio/(test_ratio + validation_ratio)) \n",
    "\n",
    "print(x_train, x_val, x_test)\n",
    "\n",
    "\n",
    "\n",
    "\"\"\"\n",
    "\n",
    "\n",
    "\"\"\"\n",
    "\n",
    "# Defines ratios, w.r.t. whole dataset.\n",
    "ratio_train = 0.5\n",
    "ratio_val = 0.25\n",
    "ratio_test = 0.25\n",
    "\n",
    "# Produces test split.\n",
    "x_remaining, x_test, y_remaining, y_test = train_test_split(\n",
    "    x, y, test_size=test_ratio)\n",
    "\n",
    "# Adjusts val ratio, w.r.t. remaining dataset.\n",
    "ratio_remaining = 1 - ratio_test\n",
    "ratio_val_adjusted = ratio_val / ratio_remaining\n",
    "\n",
    "# Produces train and val splits.\n",
    "x_train, x_val, y_train, y_val = train_test_split(\n",
    "    x_remaining, y_remaining, test_size=ratio_val_adjusted)\n",
    "Since the remaining dataset is reduced after the first split, new ratios with respect to the reduced dataset must be calculated by solving the equation:\n",
    "\n",
    "Rremaining⋅Rnew=Rold\n",
    "\n",
    "\n",
    "\n",
    "\"\"\"\n"
   ]
  },
  {
   "cell_type": "code",
   "execution_count": 5,
   "metadata": {},
   "outputs": [
    {
     "name": "stdout",
     "output_type": "stream",
     "text": [
      "[0.9743589743589743, 0.9743589743589743, 0.9743589743589743]\n"
     ]
    },
    {
     "data": {
      "text/plain": [
       "Text(0, 0.5, 'validation set scores')"
      ]
     },
     "execution_count": 5,
     "metadata": {},
     "output_type": "execute_result"
    },
    {
     "data": {
      "image/png": "[encoded data removed]",
      "text/plain": [
       "<Figure size 432x288 with 1 Axes>"
      ]
     },
     "metadata": {
      "needs_background": "light"
     },
     "output_type": "display_data"
    }
   ],
   "source": [
    "# 4.2 (b)\n",
    "from sklearn.neighbors import KNeighborsClassifier\n",
    "from sklearn import metrics\n",
    "#k_range = range(1,25)\n",
    "k_range = [1,3,5]\n",
    "#scores = {}\n",
    "score_list = []\n",
    "for k in k_range:\n",
    "    knn= KNeighborsClassifier(n_neighbors=k)\n",
    "    knn.fit(X_train,y_train)\n",
    "    y_pred = knn.predict(X_val)\n",
    "    score_list.append(metrics.accuracy_score(y_val,y_pred))\n",
    "print(score_list)\n",
    "import matplotlib.pyplot as plt\n",
    "plt.plot(k_range,score_list )\n",
    "plt.xlabel(\"Values of K\")\n",
    "plt.ylabel(\"validation set scores\")"
   ]
  },
  {
   "cell_type": "code",
   "execution_count": 7,
   "metadata": {},
   "outputs": [
    {
     "name": "stdout",
     "output_type": "stream",
     "text": [
      "0.9323809523809524\n",
      "{'n_neighbors': 5}\n",
      "KNeighborsClassifier(algorithm='auto', leaf_size=30, metric='minkowski',\n",
      "                     metric_params=None, n_jobs=None, n_neighbors=5, p=2,\n",
      "                     weights='uniform')\n"
     ]
    }
   ],
   "source": [
    "# 4.2 c\n",
    "\n",
    "from sklearn.model_selection import GridSearchCV\n",
    "param_grid = dict(n_neighbors = k_range)\n",
    "grid = GridSearchCV(knn, param_grid, scoring = 'accuracy')\n",
    "grid.fit(X_train,y_train)\n",
    "print (grid.best_score_)\n",
    "print (grid.best_params_)\n",
    "print (grid.best_estimator_)\n",
    "\n"
   ]
  },
  {
   "cell_type": "code",
   "execution_count": 8,
   "metadata": {},
   "outputs": [
    {
     "name": "stdout",
     "output_type": "stream",
     "text": [
      "1.0\n"
     ]
    },
    {
     "data": {
      "image/png": "[encoded data removed]",
      "text/plain": [
       "<Figure size 432x288 with 2 Axes>"
      ]
     },
     "metadata": {
      "needs_background": "light"
     },
     "output_type": "display_data"
    }
   ],
   "source": [
    "# 4.2 d generalisation error\n",
    "\n",
    "knn= KNeighborsClassifier(n_neighbors=8)\n",
    "knn.fit(X_train_o,y_train_o)\n",
    "y_pred = knn.predict(X_test)\n",
    "\n",
    "from sklearn.metrics import confusion_matrix\n",
    "import matplotlib.pyplot as plt\n",
    "import pandas as pd\n",
    "import seaborn as sns\n",
    "from sklearn.metrics import accuracy_score\n",
    "\n",
    "# Creates a confusion matrix\n",
    "cm = confusion_matrix(y_test, y_pred)\n",
    "print(accuracy_score(y_test, y_pred))\n",
    "# Transform to df for easier plotting\n",
    "cm_df = pd.DataFrame(cm,\n",
    "                     index = ['setosa','versicolor','virginica'], \n",
    "                     columns = ['setosa','versicolor','virginica'])\n",
    "\n",
    "sns.heatmap(cm_df, annot=True)\n",
    "plt.title('Accuracy using independent test set'.format(accuracy_score(y_test, y_pred)))\n",
    "plt.ylabel('Actual label')\n",
    "plt.xlabel('Predicted label')\n",
    "plt.show()\n",
    "\n"
   ]
  },
  {
   "cell_type": "code",
   "execution_count": 59,
   "metadata": {},
   "outputs": [
    {
     "name": "stdout",
     "output_type": "stream",
     "text": [
      "0.9375494071146246\n",
      "0.9636363636363636\n",
      "1.0\n",
      "1.0\n"
     ]
    },
    {
     "name": "stderr",
     "output_type": "stream",
     "text": [
      "C:\\Users\\priyam\\anaconda3\\lib\\site-packages\\sklearn\\linear_model\\_logistic.py:940: ConvergenceWarning: lbfgs failed to converge (status=1):\n",
      "STOP: TOTAL NO. of ITERATIONS REACHED LIMIT.\n",
      "\n",
      "Increase the number of iterations (max_iter) or scale the data as shown in:\n",
      "    https://scikit-learn.org/stable/modules/preprocessing.html\n",
      "Please also refer to the documentation for alternative solver options:\n",
      "    https://scikit-learn.org/stable/modules/linear_model.html#logistic-regression\n",
      "  extra_warning_msg=_LOGISTIC_SOLVER_CONVERGENCE_MSG)\n"
     ]
    }
   ],
   "source": [
    "# 4.3 e\n",
    "\n",
    "from sklearn import datasets\n",
    "from sklearn.model_selection import train_test_split\n",
    "from sklearn.neighbors import KNeighborsClassifier\n",
    "from sklearn.linear_model import LogisticRegression\n",
    "from sklearn import metrics\n",
    "from sklearn.model_selection import cross_val_score\n",
    "iris = datasets.load_iris()\n",
    "X= iris.data\n",
    "y=iris.target\n",
    "\n",
    "# a) randomly split data into train, validation and test\n",
    "X_train_o, X_test, y_train_o, y_test = train_test_split(X, y, test_size=0.25, random_state=42)\n",
    "\n",
    "X_train, X_val, y_train, y_val = train_test_split(X_train_o, y_train_o, test_size=0.34, random_state=42)\n",
    "\n",
    "#model selection\n",
    "knn = KNeighborsClassifier(n_neighbors=8)\n",
    "print(cross_val_score(knn, X_train_o, y_train_o, cv=5, scoring='accuracy').mean())\n",
    "\n",
    "#.96\n",
    "\n",
    "logreg = LogisticRegression()\n",
    "print(cross_val_score(logreg, X_train_o, y_train_o, cv=5, scoring='accuracy').mean())\n",
    "\n",
    "#.97\n",
    "\n",
    "# https://www.ritchieng.com/machine-learning-cross-validation/\n",
    "knn.fit(X_train_o,y_train_o)\n",
    "y_pred_knn = knn.predict(X_test)\n",
    "print(metrics.accuracy_score(y_test,y_pred_knn))\n",
    "\n",
    "logreg.fit(X_train_o,y_train_o)\n",
    "y_pred_logreg = logreg.predict(X_test)\n",
    "print(metrics.accuracy_score(y_test,y_pred_logreg))\n",
    "\n",
    "\n"
   ]
  },
  {
   "cell_type": "code",
   "execution_count": 6,
   "metadata": {},
   "outputs": [
    {
     "name": "stdout",
     "output_type": "stream",
     "text": [
      "1\n",
      "3\n",
      "5\n"
     ]
    }
   ],
   "source": [
    "x = [1,3,5]\n",
    "for i in x:\n",
    "    print(i)"
   ]
  },
  {
   "cell_type": "code",
   "execution_count": null,
   "metadata": {},
   "outputs": [],
   "source": []
  }
 ],
 "metadata": {
  "kernelspec": {
   "display_name": "Python 3",
   "language": "python",
   "name": "python3"
  },
  "language_info": {
   "codemirror_mode": {
    "name": "ipython",
    "version": 3
   },
   "file_extension": ".py",
   "mimetype": "text/x-python",
   "name": "python",
   "nbconvert_exporter": "python",
   "pygments_lexer": "ipython3",
   "version": "3.7.6"
  }
 },
 "nbformat": 4,
 "nbformat_minor": 4
}
