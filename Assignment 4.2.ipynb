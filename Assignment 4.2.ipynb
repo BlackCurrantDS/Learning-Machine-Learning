{
 "cells": [
  {
   "cell_type": "code",
   "execution_count": 12,
   "metadata": {},
   "outputs": [
    {
     "name": "stdout",
     "output_type": "stream",
     "text": [
      "length of tain:73 length of val:39 length of test:38\n"
     ]
    },
    {
     "data": {
      "text/plain": [
       "'\\n\\n# Defines ratios, w.r.t. whole dataset.\\nratio_train = 0.5\\nratio_val = 0.25\\nratio_test = 0.25\\n\\n# Produces test split.\\nx_remaining, x_test, y_remaining, y_test = train_test_split(\\n    x, y, test_size=test_ratio)\\n\\n# Adjusts val ratio, w.r.t. remaining dataset.\\nratio_remaining = 1 - ratio_test\\nratio_val_adjusted = ratio_val / ratio_remaining\\n\\n# Produces train and val splits.\\nx_train, x_val, y_train, y_val = train_test_split(\\n    x_remaining, y_remaining, test_size=ratio_val_adjusted)\\nSince the remaining dataset is reduced after the first split, new ratios with respect to the reduced dataset must be calculated by solving the equation:\\n\\nRremaining⋅Rnew=Rold\\n\\n\\n\\n'"
      ]
     },
     "execution_count": 12,
     "metadata": {},
     "output_type": "execute_result"
    }
   ],
   "source": [
    "# Question 4.2 a\n",
    "from sklearn import datasets\n",
    "from sklearn.model_selection import train_test_split\n",
    "iris = datasets.load_iris()\n",
    "X= iris.data\n",
    "y=iris.target\n",
    "\n",
    "# a) randomly split data into train, validation and test\n",
    "X_train_o, X_test, y_train_o, y_test = train_test_split(X, y, test_size=0.25, shuffle = True)\n",
    "\n",
    "X_train, X_val, y_train, y_val = train_test_split(X_train_o, y_train_o, test_size=0.34, shuffle = True) # 0.34 x 0.75 = 0.25\n",
    "\n",
    "print(\"length of tain:\" + str(len(X_train)), \"length of val:\" + str(len(X_val)),\"length of test:\" + str(len(X_test)))\n",
    "\n",
    "#Question about the randomly chosen\n",
    "\n",
    "\"\"\"\n",
    "\n",
    "train_ratio = 0.75\n",
    "validation_ratio = 0.15\n",
    "test_ratio = 0.10\n",
    "\n",
    "# train is now 75% of the entire data set\n",
    "# the _junk suffix means that we drop that variable completely\n",
    "x_train, x_test, y_train, y_test = train_test_split(dataX, dataY, test_size=1 - train_ratio)\n",
    "\n",
    "# test is now 10% of the initial data set\n",
    "# validation is now 15% of the initial data set\n",
    "x_val, x_test, y_val, y_test = train_test_split(x_test, y_test, test_size=test_ratio/(test_ratio + validation_ratio)) \n",
    "\n",
    "print(x_train, x_val, x_test)\n",
    "\n",
    "\n",
    "\n",
    "\"\"\"\n",
    "\n",
    "\n",
    "\"\"\"\n",
    "\n",
    "# Defines ratios, w.r.t. whole dataset.\n",
    "ratio_train = 0.5\n",
    "ratio_val = 0.25\n",
    "ratio_test = 0.25\n",
    "\n",
    "# Produces test split.\n",
    "x_remaining, x_test, y_remaining, y_test = train_test_split(\n",
    "    x, y, test_size=test_ratio)\n",
    "\n",
    "# Adjusts val ratio, w.r.t. remaining dataset.\n",
    "ratio_remaining = 1 - ratio_test\n",
    "ratio_val_adjusted = ratio_val / ratio_remaining\n",
    "\n",
    "# Produces train and val splits.\n",
    "x_train, x_val, y_train, y_val = train_test_split(\n",
    "    x_remaining, y_remaining, test_size=ratio_val_adjusted)\n",
    "Since the remaining dataset is reduced after the first split, new ratios with respect to the reduced dataset must be calculated by solving the equation:\n",
    "\n",
    "Rremaining⋅Rnew=Rold\n",
    "\n",
    "\n",
    "\n",
    "\"\"\"\n"
   ]
  },
  {
   "cell_type": "code",
   "execution_count": 13,
   "metadata": {},
   "outputs": [
    {
     "name": "stdout",
     "output_type": "stream",
     "text": [
      "[0.9230769230769231, 0.9487179487179487, 0.9487179487179487]\n",
      "[0.07692307692307693, 0.05128205128205128, 0.05128205128205128]\n"
     ]
    },
    {
     "data": {
      "image/png": "[encoded data removed]",
      "text/plain": [
       "<Figure size 432x288 with 1 Axes>"
      ]
     },
     "metadata": {
      "needs_background": "light"
     },
     "output_type": "display_data"
    }
   ],
   "source": [
    "# 4.2 (b)\n",
    "from sklearn.neighbors import KNeighborsClassifier\n",
    "from sklearn import metrics\n",
    "#k_range = range(1,25)\n",
    "import numpy as np\n",
    "k_range = [1,3,5]\n",
    "#scores = {}\n",
    "score_list = []\n",
    "for k in k_range:\n",
    "    knn= KNeighborsClassifier(n_neighbors=k)\n",
    "    knn.fit(X_train,y_train)\n",
    "    y_pred = knn.predict(X_val)\n",
    "    score_list.append(metrics.accuracy_score(y_val,y_pred))\n",
    "print(score_list)\n",
    "import matplotlib.pyplot as plt\n",
    "plt.plot(k_range,score_list )\n",
    "plt.xlabel(\"Values of K\")\n",
    "plt.ylabel(\"validation set scores\")\n",
    "\n",
    "error_rate = []\n",
    "for i in k_range:\n",
    "    knn = KNeighborsClassifier(n_neighbors=i)\n",
    "    knn.fit(X_train, y_train)\n",
    "    pred_i = knn.predict(X_val)\n",
    "    error_rate.append(np.mean(pred_i != y_val))\n",
    "print(error_rate)"
   ]
  },
  {
   "cell_type": "code",
   "execution_count": 14,
   "metadata": {},
   "outputs": [
    {
     "name": "stdout",
     "output_type": "stream",
     "text": [
      "0.9723809523809525\n",
      "{'n_neighbors': 5}\n",
      "KNeighborsClassifier(algorithm='auto', leaf_size=30, metric='minkowski',\n",
      "                     metric_params=None, n_jobs=None, n_neighbors=5, p=2,\n",
      "                     weights='uniform')\n"
     ]
    }
   ],
   "source": [
    "# 4.2 c\n",
    "\n",
    "from sklearn.model_selection import GridSearchCV\n",
    "param_grid = dict(n_neighbors = k_range)\n",
    "grid = GridSearchCV(knn, param_grid, scoring = 'accuracy')\n",
    "grid.fit(X_train,y_train)\n",
    "print (grid.best_score_)\n",
    "print (grid.best_params_)\n",
    "print (grid.best_estimator_)\n",
    "\n"
   ]
  },
  {
   "cell_type": "code",
   "execution_count": 17,
   "metadata": {},
   "outputs": [
    {
     "name": "stdout",
     "output_type": "stream",
     "text": [
      "Accuracy is: 0.9736842105263158\n",
      "error is: 0.02631578947368418\n"
     ]
    },
    {
     "data": {
      "image/png": "[encoded data removed]",
      "text/plain": [
       "<Figure size 432x288 with 2 Axes>"
      ]
     },
     "metadata": {
      "needs_background": "light"
     },
     "output_type": "display_data"
    },
    {
     "name": "stdout",
     "output_type": "stream",
     "text": [
      "              precision    recall  f1-score   support\n",
      "\n",
      "           0       1.00      1.00      1.00        11\n",
      "           1       0.91      1.00      0.95        10\n",
      "           2       1.00      0.94      0.97        17\n",
      "\n",
      "    accuracy                           0.97        38\n",
      "   macro avg       0.97      0.98      0.97        38\n",
      "weighted avg       0.98      0.97      0.97        38\n",
      "\n"
     ]
    }
   ],
   "source": [
    "# 4.2 d generalisation error\n",
    "\n",
    "knn= KNeighborsClassifier(n_neighbors=3)\n",
    "knn.fit(X_train_o,y_train_o)\n",
    "y_pred = knn.predict(X_test)\n",
    "\n",
    "from sklearn.metrics import confusion_matrix\n",
    "import matplotlib.pyplot as plt\n",
    "import pandas as pd\n",
    "import seaborn as sns\n",
    "from sklearn.metrics import accuracy_score\n",
    "from sklearn.metrics import classification_report\n",
    "\n",
    "# Creates a confusion matrix\n",
    "cm = confusion_matrix(y_test, y_pred)\n",
    "print(\"Accuracy is:\",accuracy_score(y_test, y_pred))\n",
    "print(\"error is:\", (1-accuracy_score(y_test, y_pred)))\n",
    "# Transform to df for easier plotting\n",
    "cm_df = pd.DataFrame(cm,\n",
    "                     index = ['setosa','versicolor','virginica'], \n",
    "                     columns = ['setosa','versicolor','virginica'])\n",
    "\n",
    "sns.heatmap(cm_df, annot=True)\n",
    "plt.title('Accuracy using independent test set'.format(accuracy_score(y_test, y_pred)))\n",
    "plt.ylabel('Actual label')\n",
    "plt.xlabel('Predicted label')\n",
    "plt.show()\n",
    "print(classification_report(y_test, y_pred))\n"
   ]
  },
  {
   "cell_type": "code",
   "execution_count": null,
   "metadata": {},
   "outputs": [],
   "source": [
    "# 4.3 e\n",
    "\n",
    "from sklearn import datasets\n",
    "from sklearn.model_selection import train_test_split\n",
    "from sklearn.neighbors import KNeighborsClassifier\n",
    "from sklearn.linear_model import LogisticRegression\n",
    "from sklearn import metrics\n",
    "from sklearn.model_selection import cross_val_score\n",
    "iris = datasets.load_iris()\n",
    "X= iris.data\n",
    "y=iris.target\n",
    "\n",
    "# a) randomly split data into train, validation and test\n",
    "X_train_o, X_test, y_train_o, y_test = train_test_split(X, y, test_size=0.25, shuffle=True)\n",
    "\n",
    "X_train, X_val, y_train, y_val = train_test_split(X_train_o, y_train_o, test_size=0.34, shuffle=True)\n",
    "\n",
    "#model selection\n",
    "knn = KNeighborsClassifier(n_neighbors=3)\n",
    "print(cross_val_score(knn, X_train_o, y_train_o, cv=5, scoring='accuracy').mean())\n",
    "\n",
    "#.94\n",
    "\n",
    "logreg = LogisticRegression()\n",
    "print(cross_val_score(logreg, X_train_o, y_train_o, cv=5, scoring='accuracy').mean())\n",
    "\n",
    "#.96\n",
    "\n",
    "#Evaluation\n",
    "\n",
    "#model selection\n",
    "knn = KNeighborsClassifier(n_neighbors=3)\n",
    "print(cross_val_score(knn, X_test, y_test, cv=5, scoring='accuracy').mean())\n",
    "\n",
    "#.94\n",
    "\n",
    "logreg = LogisticRegression()\n",
    "print(cross_val_score(logreg, X_test, y_test, cv=5, scoring='accuracy').mean())\n",
    "\n",
    "\n",
    "\n",
    "# https://www.ritchieng.com/machine-learning-cross-validation/\n",
    "knn.fit(X_train_o,y_train_o)\n",
    "y_pred_knn = knn.predict(X_test)\n",
    "print(metrics.accuracy_score(y_test,y_pred_knn))\n",
    "\n",
    "logreg.fit(X_train_o,y_train_o)\n",
    "y_pred_logreg = logreg.predict(X_test)\n",
    "print(metrics.accuracy_score(y_test,y_pred_logreg))\n",
    "\n",
    "\n"
   ]
  },
  {
   "cell_type": "code",
   "execution_count": 9,
   "metadata": {},
   "outputs": [
    {
     "name": "stdout",
     "output_type": "stream",
     "text": [
      "for K = 1 error is 0.06284584980237154\n",
      "for K = 3 error is 0.06284584980237154\n",
      "for K = 5 error is 0.0541501976284585\n",
      "Average error of 5-fold CV is : [0.0541501976284585]\n",
      "Generalisation error on test set with 5 fold CV and k = 3 is 0.033333333333333326\n",
      "Generalisation error on test set wihtout CV is 0.052631578947368474\n"
     ]
    },
    {
     "ename": "NameError",
     "evalue": "name 'plt' is not defined",
     "output_type": "error",
     "traceback": [
      "\u001b[1;31m---------------------------------------------------------------------------\u001b[0m",
      "\u001b[1;31mNameError\u001b[0m                                 Traceback (most recent call last)",
      "\u001b[1;32m<ipython-input-9-85d170d6ffa8>\u001b[0m in \u001b[0;36m<module>\u001b[1;34m\u001b[0m\n\u001b[0;32m     37\u001b[0m \u001b[1;33m\u001b[0m\u001b[0m\n\u001b[0;32m     38\u001b[0m \u001b[0msns\u001b[0m\u001b[1;33m.\u001b[0m\u001b[0mheatmap\u001b[0m\u001b[1;33m(\u001b[0m\u001b[0mcm_df\u001b[0m\u001b[1;33m,\u001b[0m \u001b[0mannot\u001b[0m\u001b[1;33m=\u001b[0m\u001b[1;32mTrue\u001b[0m\u001b[1;33m)\u001b[0m\u001b[1;33m\u001b[0m\u001b[1;33m\u001b[0m\u001b[0m\n\u001b[1;32m---> 39\u001b[1;33m \u001b[0mplt\u001b[0m\u001b[1;33m.\u001b[0m\u001b[0mtitle\u001b[0m\u001b[1;33m(\u001b[0m\u001b[1;34m'Accuracy using independent test set'\u001b[0m\u001b[1;33m.\u001b[0m\u001b[0mformat\u001b[0m\u001b[1;33m(\u001b[0m\u001b[0maccuracy_score\u001b[0m\u001b[1;33m(\u001b[0m\u001b[0my_test\u001b[0m\u001b[1;33m,\u001b[0m \u001b[0my_pred_knn\u001b[0m\u001b[1;33m)\u001b[0m\u001b[1;33m)\u001b[0m\u001b[1;33m)\u001b[0m\u001b[1;33m\u001b[0m\u001b[1;33m\u001b[0m\u001b[0m\n\u001b[0m\u001b[0;32m     40\u001b[0m \u001b[0mplt\u001b[0m\u001b[1;33m.\u001b[0m\u001b[0mylabel\u001b[0m\u001b[1;33m(\u001b[0m\u001b[1;34m'Actual label'\u001b[0m\u001b[1;33m)\u001b[0m\u001b[1;33m\u001b[0m\u001b[1;33m\u001b[0m\u001b[0m\n\u001b[0;32m     41\u001b[0m \u001b[0mplt\u001b[0m\u001b[1;33m.\u001b[0m\u001b[0mxlabel\u001b[0m\u001b[1;33m(\u001b[0m\u001b[1;34m'Predicted label'\u001b[0m\u001b[1;33m)\u001b[0m\u001b[1;33m\u001b[0m\u001b[1;33m\u001b[0m\u001b[0m\n",
      "\u001b[1;31mNameError\u001b[0m: name 'plt' is not defined"
     ]
    },
    {
     "data": {
      "image/png": "[encoded data removed]",
      "text/plain": [
       "<Figure size 432x288 with 2 Axes>"
      ]
     },
     "metadata": {
      "needs_background": "light"
     },
     "output_type": "display_data"
    }
   ],
   "source": [
    "# 4.3 e\n",
    "\n",
    "from sklearn import datasets\n",
    "from sklearn.model_selection import train_test_split\n",
    "from sklearn.neighbors import KNeighborsClassifier\n",
    "from sklearn.linear_model import LogisticRegression\n",
    "from sklearn import metrics\n",
    "from sklearn.model_selection import cross_val_score\n",
    "from sklearn.metrics import classification_report\n",
    "from sklearn.metrics import confusion_matrix\n",
    "import pandas as pd\n",
    "import seaborn as sns\n",
    "iris = datasets.load_iris()\n",
    "X= iris.data\n",
    "y=iris.target\n",
    "\n",
    "# a) randomly split data into train, validation and test\n",
    "X_train, X_test, y_train, y_test = train_test_split(X, y, test_size=0.25, shuffle=True)\n",
    "\n",
    "#model selection\n",
    "for i in (1,3,5):\n",
    "    sc= []\n",
    "    knn = KNeighborsClassifier(n_neighbors=i)\n",
    "    print(\"for K =\",i,\"error is\", (1-cross_val_score(knn, X_train, y_train, cv=5)).mean())\n",
    "    sc.append((1-cross_val_score(knn, X_train, y_train, cv=5)).mean())\n",
    "print(\"Average error of 5-fold CV is :\" ,sc)\n",
    "knn = KNeighborsClassifier(n_neighbors=3)\n",
    "knn.fit(X_train,y_train)\n",
    "y_pred_knn = knn.predict(X_test)\n",
    "#print(\"Accuracy on overall test set is:\", metrics.accuracy_score(y_test,y_pred_knn))\n",
    "print(\"Generalisation error on test set with 5 fold CV and k = 3 is\",(1-cross_val_score(knn, X, y, cv=5)).mean())\n",
    "print(\"Generalisation error on test set wihtout CV is\",(1-metrics.accuracy_score(y_test,y_pred_knn)))\n",
    "cm = confusion_matrix(y_test, y_pred_knn)\n",
    "cm_df = pd.DataFrame(cm,\n",
    "                     index = ['setosa','versicolor','virginica'], \n",
    "                     columns = ['setosa','versicolor','virginica'])\n",
    "\n",
    "sns.heatmap(cm_df, annot=True)\n",
    "plt.title('Accuracy using independent test set'.format(accuracy_score(y_test, y_pred_knn)))\n",
    "plt.ylabel('Actual label')\n",
    "plt.xlabel('Predicted label')\n",
    "plt.show()\n",
    "print(classification_report(y_test, y_pred_knn))\n",
    "\n",
    "\n",
    "\n"
   ]
  },
  {
   "cell_type": "code",
   "execution_count": null,
   "metadata": {},
   "outputs": [],
   "source": []
  },
  {
   "cell_type": "code",
   "execution_count": null,
   "metadata": {},
   "outputs": [],
   "source": []
  }
 ],
 "metadata": {
  "kernelspec": {
   "display_name": "Python 3",
   "language": "python",
   "name": "python3"
  },
  "language_info": {
   "codemirror_mode": {
    "name": "ipython",
    "version": 3
   },
   "file_extension": ".py",
   "mimetype": "text/x-python",
   "name": "python",
   "nbconvert_exporter": "python",
   "pygments_lexer": "ipython3",
   "version": "3.7.6"
  }
 },
 "nbformat": 4,
 "nbformat_minor": 4
}
