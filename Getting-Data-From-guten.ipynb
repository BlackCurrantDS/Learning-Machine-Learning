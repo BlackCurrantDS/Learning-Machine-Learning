{
 "cells": [
  {
   "cell_type": "code",
   "execution_count": 1,
   "metadata": {},
   "outputs": [],
   "source": [
    "import pandas as pd\n",
    "csvFileName  = 'master996.csv'\n",
    "data = pd.read_csv ( open ( csvFileName ), delimiter=';',encoding= 'unicode_escape')"
   ]
  },
  {
   "cell_type": "code",
   "execution_count": 2,
   "metadata": {},
   "outputs": [
    {
     "data": {
      "text/html": [
       "<div>\n",
       "<style scoped>\n",
       "    .dataframe tbody tr th:only-of-type {\n",
       "        vertical-align: middle;\n",
       "    }\n",
       "\n",
       "    .dataframe tbody tr th {\n",
       "        vertical-align: top;\n",
       "    }\n",
       "\n",
       "    .dataframe thead th {\n",
       "        text-align: right;\n",
       "    }\n",
       "</style>\n",
       "<table border=\"1\" class=\"dataframe\">\n",
       "  <thead>\n",
       "    <tr style=\"text-align: right;\">\n",
       "      <th></th>\n",
       "      <th>Book_Name</th>\n",
       "      <th>book_id</th>\n",
       "      <th>guten_genre</th>\n",
       "      <th>Author_Name</th>\n",
       "      <th>FileNo</th>\n",
       "    </tr>\n",
       "  </thead>\n",
       "  <tbody>\n",
       "    <tr>\n",
       "      <th>961</th>\n",
       "      <td>Alice's Adventures in Wonderland</td>\n",
       "      <td>pg11CarolAlice.epub</td>\n",
       "      <td>Literary</td>\n",
       "      <td>Carroll| Lewis</td>\n",
       "      <td>11</td>\n",
       "    </tr>\n",
       "    <tr>\n",
       "      <th>962</th>\n",
       "      <td>Through the Looking-Glass</td>\n",
       "      <td>pg12CarolGlassLook.epub</td>\n",
       "      <td>Literary</td>\n",
       "      <td>Carroll| Lewis</td>\n",
       "      <td>12</td>\n",
       "    </tr>\n",
       "    <tr>\n",
       "      <th>995</th>\n",
       "      <td>A Tale of Two Cities</td>\n",
       "      <td>pg98DickensTaleCities.epub</td>\n",
       "      <td>Literary</td>\n",
       "      <td>Dickens| Charles</td>\n",
       "      <td>98</td>\n",
       "    </tr>\n",
       "    <tr>\n",
       "      <th>958</th>\n",
       "      <td>Persuasion</td>\n",
       "      <td>pg105JaneAusPersuatn.epub</td>\n",
       "      <td>Literary</td>\n",
       "      <td>Austen| Jane</td>\n",
       "      <td>105</td>\n",
       "    </tr>\n",
       "    <tr>\n",
       "      <th>959</th>\n",
       "      <td>Return of Sherlock Holmes</td>\n",
       "      <td>pg108DoyleReturnSherlk.epub</td>\n",
       "      <td>Detective and Mystery</td>\n",
       "      <td>Connan| Doyle</td>\n",
       "      <td>108</td>\n",
       "    </tr>\n",
       "    <tr>\n",
       "      <th>...</th>\n",
       "      <td>...</td>\n",
       "      <td>...</td>\n",
       "      <td>...</td>\n",
       "      <td>...</td>\n",
       "      <td>...</td>\n",
       "    </tr>\n",
       "    <tr>\n",
       "      <th>863</th>\n",
       "      <td>Kate Vernon: A Tale. Vol. 2 (of 3)</td>\n",
       "      <td>pg53356.epub</td>\n",
       "      <td>Literary</td>\n",
       "      <td>Alexander| Mrs.</td>\n",
       "      <td>53356</td>\n",
       "    </tr>\n",
       "    <tr>\n",
       "      <th>864</th>\n",
       "      <td>The Touch of Abner</td>\n",
       "      <td>pg53604.epub</td>\n",
       "      <td>Literary</td>\n",
       "      <td>Cody| H. A.</td>\n",
       "      <td>53604</td>\n",
       "    </tr>\n",
       "    <tr>\n",
       "      <th>865</th>\n",
       "      <td>Kate Vernon: A Tale. Vol. 3 (of 3)</td>\n",
       "      <td>pg53668.epub</td>\n",
       "      <td>Literary</td>\n",
       "      <td>Alexander| Mrs.</td>\n",
       "      <td>53668</td>\n",
       "    </tr>\n",
       "    <tr>\n",
       "      <th>964</th>\n",
       "      <td>Mardi: and A Voyage Thither I</td>\n",
       "      <td>pg13720HermanVoyage1.epub</td>\n",
       "      <td>Sea and Adventure</td>\n",
       "      <td>Melville| Herman</td>\n",
       "      <td>137201</td>\n",
       "    </tr>\n",
       "    <tr>\n",
       "      <th>965</th>\n",
       "      <td>Mardi: and A Voyage Thither ||</td>\n",
       "      <td>pg13721HermanVoyage2.epub</td>\n",
       "      <td>Sea and Adventure</td>\n",
       "      <td>Melville| Herman</td>\n",
       "      <td>137212</td>\n",
       "    </tr>\n",
       "  </tbody>\n",
       "</table>\n",
       "<p>996 rows × 5 columns</p>\n",
       "</div>"
      ],
      "text/plain": [
       "                              Book_Name                      book_id  \\\n",
       "961    Alice's Adventures in Wonderland          pg11CarolAlice.epub   \n",
       "962           Through the Looking-Glass      pg12CarolGlassLook.epub   \n",
       "995                A Tale of Two Cities   pg98DickensTaleCities.epub   \n",
       "958                          Persuasion    pg105JaneAusPersuatn.epub   \n",
       "959           Return of Sherlock Holmes  pg108DoyleReturnSherlk.epub   \n",
       "..                                  ...                          ...   \n",
       "863  Kate Vernon: A Tale. Vol. 2 (of 3)                 pg53356.epub   \n",
       "864                  The Touch of Abner                 pg53604.epub   \n",
       "865  Kate Vernon: A Tale. Vol. 3 (of 3)                 pg53668.epub   \n",
       "964       Mardi: and A Voyage Thither I    pg13720HermanVoyage1.epub   \n",
       "965      Mardi: and A Voyage Thither ||    pg13721HermanVoyage2.epub   \n",
       "\n",
       "               guten_genre       Author_Name  FileNo  \n",
       "961               Literary    Carroll| Lewis      11  \n",
       "962               Literary    Carroll| Lewis      12  \n",
       "995               Literary  Dickens| Charles      98  \n",
       "958               Literary      Austen| Jane     105  \n",
       "959  Detective and Mystery     Connan| Doyle     108  \n",
       "..                     ...               ...     ...  \n",
       "863               Literary   Alexander| Mrs.   53356  \n",
       "864               Literary       Cody| H. A.   53604  \n",
       "865               Literary   Alexander| Mrs.   53668  \n",
       "964      Sea and Adventure  Melville| Herman  137201  \n",
       "965      Sea and Adventure  Melville| Herman  137212  \n",
       "\n",
       "[996 rows x 5 columns]"
      ]
     },
     "execution_count": 2,
     "metadata": {},
     "output_type": "execute_result"
    }
   ],
   "source": [
    "#Extracting the bookid into Dataframe column FileNo, book id pg10067- FileNo - 10067\n",
    "\n",
    "data['FileNo'] = data['book_id'].str.replace(r'\\D+', '').astype(int)\n",
    "\n",
    "#Checkign the values\n",
    "\n",
    "data.sort_values(by=['FileNo'], inplace=True)\n",
    "data"
   ]
  },
  {
   "cell_type": "code",
   "execution_count": 3,
   "metadata": {},
   "outputs": [],
   "source": [
    "import glob\n",
    "\n",
    "# Getting all files and its names into dict and then converting to dataframe\"\"\"\n",
    "\n",
    "Content = {}\n",
    "\n",
    "#Its placed in Books folder at local , need to change it later \n",
    "%timeit\n",
    "files = glob.glob(\"Books\\*.html\")\n",
    "for f in files:\n",
    "    with open(f,mode ='r', encoding = 'utf8') as myfile:\n",
    "        Content[f]=myfile.read().replace(\"<br>\", '\\n')"
   ]
  },
  {
   "cell_type": "code",
   "execution_count": 15,
   "metadata": {},
   "outputs": [
    {
     "name": "stdout",
     "output_type": "stream",
     "text": [
      "<class 'pandas.core.frame.DataFrame'>\n",
      "Int64Index: 996 entries, 0 to 995\n",
      "Data columns (total 7 columns):\n",
      " #   Column       Non-Null Count  Dtype \n",
      "---  ------       --------------  ----- \n",
      " 0   File_Name    996 non-null    object\n",
      " 1   Data         996 non-null    object\n",
      " 2   FileNo       996 non-null    int32 \n",
      " 3   Book_Name    996 non-null    object\n",
      " 4   book_id      996 non-null    object\n",
      " 5   guten_genre  996 non-null    object\n",
      " 6   Author_Name  996 non-null    object\n",
      "dtypes: int32(1), object(6)\n",
      "memory usage: 58.4+ KB\n"
     ]
    },
    {
     "data": {
      "text/html": [
       "<div>\n",
       "<style scoped>\n",
       "    .dataframe tbody tr th:only-of-type {\n",
       "        vertical-align: middle;\n",
       "    }\n",
       "\n",
       "    .dataframe tbody tr th {\n",
       "        vertical-align: top;\n",
       "    }\n",
       "\n",
       "    .dataframe thead th {\n",
       "        text-align: right;\n",
       "    }\n",
       "</style>\n",
       "<table border=\"1\" class=\"dataframe\">\n",
       "  <thead>\n",
       "    <tr style=\"text-align: right;\">\n",
       "      <th></th>\n",
       "      <th>Data</th>\n",
       "      <th>FileNo</th>\n",
       "      <th>Book_Name</th>\n",
       "      <th>guten_genre</th>\n",
       "      <th>Author_Name</th>\n",
       "    </tr>\n",
       "  </thead>\n",
       "  <tbody>\n",
       "    <tr>\n",
       "      <th>0</th>\n",
       "      <td>&lt;p&gt;A Detective Story\\n&lt;p&gt;A.B.M. Fellow-Sherloc...</td>\n",
       "      <td>10067</td>\n",
       "      <td>The Mystery of the Boule Cabinet: A Detective ...</td>\n",
       "      <td>Detective and Mystery</td>\n",
       "      <td>Stevenson| Burton Egbert</td>\n",
       "    </tr>\n",
       "    <tr>\n",
       "      <th>1</th>\n",
       "      <td>&lt;p&gt;This edition first published 1916\\n&lt;p&gt;The t...</td>\n",
       "      <td>1032</td>\n",
       "      <td>The Pupil</td>\n",
       "      <td>Literary</td>\n",
       "      <td>James| Henry</td>\n",
       "    </tr>\n",
       "    <tr>\n",
       "      <th>2</th>\n",
       "      <td>&lt;p&gt;\"Until this moment I have never fully reali...</td>\n",
       "      <td>10379</td>\n",
       "      <td>At Love's Cost</td>\n",
       "      <td>Literary</td>\n",
       "      <td>Garvice| Charles</td>\n",
       "    </tr>\n",
       "    <tr>\n",
       "      <th>3</th>\n",
       "      <td>&lt;p&gt;\"The Rider of Golden Bar,\" \"Hidden Trails,\"...</td>\n",
       "      <td>10473</td>\n",
       "      <td>The Heart of the Range</td>\n",
       "      <td>Western Stories</td>\n",
       "      <td>White| William Patterson</td>\n",
       "    </tr>\n",
       "    <tr>\n",
       "      <th>4</th>\n",
       "      <td>&lt;p&gt;Sir Walter Elliot, of Kellynch Hall, in Som...</td>\n",
       "      <td>105</td>\n",
       "      <td>Persuasion</td>\n",
       "      <td>Literary</td>\n",
       "      <td>Austen| Jane</td>\n",
       "    </tr>\n",
       "  </tbody>\n",
       "</table>\n",
       "</div>"
      ],
      "text/plain": [
       "                                                Data  FileNo  \\\n",
       "0  <p>A Detective Story\\n<p>A.B.M. Fellow-Sherloc...   10067   \n",
       "1  <p>This edition first published 1916\\n<p>The t...    1032   \n",
       "2  <p>\"Until this moment I have never fully reali...   10379   \n",
       "3  <p>\"The Rider of Golden Bar,\" \"Hidden Trails,\"...   10473   \n",
       "4  <p>Sir Walter Elliot, of Kellynch Hall, in Som...     105   \n",
       "\n",
       "                                           Book_Name            guten_genre  \\\n",
       "0  The Mystery of the Boule Cabinet: A Detective ...  Detective and Mystery   \n",
       "1                                          The Pupil               Literary   \n",
       "2                                     At Love's Cost               Literary   \n",
       "3                             The Heart of the Range        Western Stories   \n",
       "4                                         Persuasion               Literary   \n",
       "\n",
       "                Author_Name  \n",
       "0  Stevenson| Burton Egbert  \n",
       "1              James| Henry  \n",
       "2          Garvice| Charles  \n",
       "3  White| William Patterson  \n",
       "4              Austen| Jane  "
      ]
     },
     "execution_count": 15,
     "metadata": {},
     "output_type": "execute_result"
    }
   ],
   "source": [
    "#Putting it in dataframe\n",
    "df = pd.DataFrame.from_dict(Content,orient='index').reset_index()\n",
    "#Renaming column names\n",
    "df.columns = ['File_Name', 'Data']\n",
    "#Adding FilNo column to join\n",
    "df['FileNo'] = df['File_Name'].str.replace(r'\\D+', '').astype(int)\n",
    "left = df\n",
    "right = data\n",
    "result = pd.merge(left, right , how='inner', on=['FileNo', 'FileNo'])\n",
    "\n",
    "#Checking resulting dataframe\n",
    "result.info()\n",
    "\n",
    "#Dropping unnecessery columns\n",
    "\n",
    "books=result.drop(['File_Name', 'book_id'], axis=1)\n",
    "books.head(5)"
   ]
  },
  {
   "cell_type": "code",
   "execution_count": 16,
   "metadata": {},
   "outputs": [
    {
     "name": "stdout",
     "output_type": "stream",
     "text": [
      "Dataset shape Counter({'Literary': 794, 'Detective and Mystery': 111, 'Sea and Adventure': 36, 'Western Stories': 18, 'Love and Romance': 18, 'Ghost and Horror': 6, 'Humorous and Wit and Satire': 6, 'Christmas Stories': 5, 'Allegories': 2})\n"
     ]
    }
   ],
   "source": [
    "from collections import Counter\n",
    "print('Dataset shape %s' % Counter(books['guten_genre']))"
   ]
  },
  {
   "cell_type": "code",
   "execution_count": 29,
   "metadata": {},
   "outputs": [
    {
     "data": {
      "text/plain": [
       "(40, 5)"
      ]
     },
     "execution_count": 29,
     "metadata": {},
     "output_type": "execute_result"
    }
   ],
   "source": [
    "s_a_books = books['guten_genre'] =='Sea and Adventure'\n",
    "s_a_df = books[s_a_books]\n",
    "w_s_books = books['guten_genre'] =='Western Stories'\n",
    "w_s_df = books[w_s_books]\n",
    "l_r_books = books['guten_genre'] =='Love and Romance'\n",
    "l_r_df = books[l_r_books]\n",
    "g_h_books = books['guten_genre'] =='Ghost and Horror'\n",
    "g_h_df = books[g_h_books]\n",
    "h_t_books = books['guten_genre'] =='Humorous and Wit and Satire'\n",
    "h_t_df = books[h_t_books]\n",
    "l_books = books['guten_genre'] =='Literary'\n",
    "l_df = books[l_books]\n",
    "d_m_books = books['guten_genre'] =='Detective and Mystery'\n",
    "d_m_df = books[d_m_books]\n",
    "c_s_books = books['guten_genre'] =='Christmas Stories'\n",
    "c_s_df = books[c_s_books]\n",
    "sample_books = pd.concat([s_a_df.head(5),w_s_df.head(5),l_r_df.head(5),g_h_df.head(5),h_t_df.head(5),l_df.head(5),d_m_df.head(5),c_s_df.head(5)])\n",
    "sample_books.shape"
   ]
  },
  {
   "cell_type": "code",
   "execution_count": 30,
   "metadata": {},
   "outputs": [
    {
     "data": {
      "text/html": [
       "<div>\n",
       "<style scoped>\n",
       "    .dataframe tbody tr th:only-of-type {\n",
       "        vertical-align: middle;\n",
       "    }\n",
       "\n",
       "    .dataframe tbody tr th {\n",
       "        vertical-align: top;\n",
       "    }\n",
       "\n",
       "    .dataframe thead th {\n",
       "        text-align: right;\n",
       "    }\n",
       "</style>\n",
       "<table border=\"1\" class=\"dataframe\">\n",
       "  <thead>\n",
       "    <tr style=\"text-align: right;\">\n",
       "      <th></th>\n",
       "      <th>Data</th>\n",
       "      <th>FileNo</th>\n",
       "      <th>Book_Name</th>\n",
       "      <th>guten_genre</th>\n",
       "      <th>Author_Name</th>\n",
       "    </tr>\n",
       "  </thead>\n",
       "  <tbody>\n",
       "    <tr>\n",
       "      <th>54</th>\n",
       "      <td>&lt;p&gt;DEDICATED TO My Brother, ALLAN MELVILLE.\\n&lt;...</td>\n",
       "      <td>137201</td>\n",
       "      <td>Mardi: and A Voyage Thither I</td>\n",
       "      <td>Sea and Adventure</td>\n",
       "      <td>Melville| Herman</td>\n",
       "    </tr>\n",
       "    <tr>\n",
       "      <th>55</th>\n",
       "      <td>&lt;p&gt;We were now voyaging straight for Maramma; ...</td>\n",
       "      <td>137212</td>\n",
       "      <td>Mardi: and A Voyage Thither ||</td>\n",
       "      <td>Sea and Adventure</td>\n",
       "      <td>Melville| Herman</td>\n",
       "    </tr>\n",
       "    <tr>\n",
       "      <th>63</th>\n",
       "      <td>&lt;p&gt;\"Looking up, he saw a slender little girl i...</td>\n",
       "      <td>14079</td>\n",
       "      <td>Sandy</td>\n",
       "      <td>Sea and Adventure</td>\n",
       "      <td>Rice| Alice Caldwell Hegan</td>\n",
       "    </tr>\n",
       "    <tr>\n",
       "      <th>155</th>\n",
       "      <td>&lt;p&gt;FROM the heart of a great hill land Glenave...</td>\n",
       "      <td>17047</td>\n",
       "      <td>The Half-Hearted</td>\n",
       "      <td>Sea and Adventure</td>\n",
       "      <td>Buchan| John</td>\n",
       "    </tr>\n",
       "    <tr>\n",
       "      <th>240</th>\n",
       "      <td>&lt;p&gt;This is a yarn of the days when the clipper...</td>\n",
       "      <td>21067</td>\n",
       "      <td>Overdue: The Story of a Missing Ship</td>\n",
       "      <td>Sea and Adventure</td>\n",
       "      <td>Collingwood| Harry</td>\n",
       "    </tr>\n",
       "  </tbody>\n",
       "</table>\n",
       "</div>"
      ],
      "text/plain": [
       "                                                  Data  FileNo  \\\n",
       "54   <p>DEDICATED TO My Brother, ALLAN MELVILLE.\\n<...  137201   \n",
       "55   <p>We were now voyaging straight for Maramma; ...  137212   \n",
       "63   <p>\"Looking up, he saw a slender little girl i...   14079   \n",
       "155  <p>FROM the heart of a great hill land Glenave...   17047   \n",
       "240  <p>This is a yarn of the days when the clipper...   21067   \n",
       "\n",
       "                                Book_Name        guten_genre  \\\n",
       "54          Mardi: and A Voyage Thither I  Sea and Adventure   \n",
       "55         Mardi: and A Voyage Thither ||  Sea and Adventure   \n",
       "63                                  Sandy  Sea and Adventure   \n",
       "155                      The Half-Hearted  Sea and Adventure   \n",
       "240  Overdue: The Story of a Missing Ship  Sea and Adventure   \n",
       "\n",
       "                    Author_Name  \n",
       "54             Melville| Herman  \n",
       "55             Melville| Herman  \n",
       "63   Rice| Alice Caldwell Hegan  \n",
       "155                Buchan| John  \n",
       "240          Collingwood| Harry  "
      ]
     },
     "execution_count": 30,
     "metadata": {},
     "output_type": "execute_result"
    }
   ],
   "source": [
    "sample_books.head(5)"
   ]
  },
  {
   "cell_type": "code",
   "execution_count": 31,
   "metadata": {},
   "outputs": [
    {
     "name": "stdout",
     "output_type": "stream",
     "text": [
      "Dataset shape Counter({'Sea and Adventure': 5, 'Western Stories': 5, 'Love and Romance': 5, 'Ghost and Horror': 5, 'Humorous and Wit and Satire': 5, 'Literary': 5, 'Detective and Mystery': 5, 'Christmas Stories': 5})\n"
     ]
    }
   ],
   "source": [
    "from collections import Counter\n",
    "print('Dataset shape %s' % Counter(sample_books['guten_genre']))"
   ]
  },
  {
   "cell_type": "code",
   "execution_count": 8,
   "metadata": {},
   "outputs": [
    {
     "name": "stdout",
     "output_type": "stream",
     "text": [
      "Dataset shape Counter({'Sea and Adventure': 36, 'Western Stories': 18, 'Love and Romance': 18, 'Ghost and Horror': 6, 'Christmas Stories': 5})\n"
     ]
    }
   ],
   "source": [
    "books = books[books['guten_genre'].isin(['Sea and Adventure','Western Stories','Love and Romance','Christmas Stories','Ghost and Horror'])]\n",
    "books.head()\n",
    "from collections import Counter\n",
    "print('Dataset shape %s' % Counter(books['guten_genre']))"
   ]
  },
  {
   "cell_type": "code",
   "execution_count": 32,
   "metadata": {},
   "outputs": [],
   "source": [
    "from bs4 import BeautifulSoup\n",
    "sample_books['Data']= [BeautifulSoup(text).get_text() for text in sample_books['Data'] ]\n",
    "sample_books.head()\n",
    "sample_books.to_csv('books.csv')"
   ]
  },
  {
   "cell_type": "code",
   "execution_count": 12,
   "metadata": {},
   "outputs": [
    {
     "data": {
      "image/png": "[encoded data removed]",
      "text/plain": [
       "<Figure size 432x288 with 1 Axes>"
      ]
     },
     "metadata": {
      "needs_background": "light"
     },
     "output_type": "display_data"
    },
    {
     "data": {
      "text/plain": [
       "<Figure size 432x288 with 0 Axes>"
      ]
     },
     "metadata": {},
     "output_type": "display_data"
    }
   ],
   "source": [
    "# This is to see number of books per authors, but so many authors hence useless\n",
    "#ax = sns.barplot(x = books['Author_Name'], y = books['FileNo'])\n",
    "\n",
    "#Plotting number of authors per gerne\n",
    "import matplotlib.pyplot as plt\n",
    "books.groupby('genre')['data'].count().plot(kind = 'bar')\n",
    "plt.show()\n",
    "plt.clf()\n"
   ]
  },
  {
   "cell_type": "code",
   "execution_count": null,
   "metadata": {},
   "outputs": [],
   "source": [
    "from imblearn.under_sampling import RandomUnderSampler\n",
    "from collections import Counter\n",
    "print('Dataset shape %s' % Counter(books['genre']))\n",
    "sm= RandomUnderSampler()\n",
    "X_res, y_res = sm.fit_resample(books['data'], books['genre'])\n",
    "print('Resampled dataset shape %s' % Counter(y_res))"
   ]
  },
  {
   "cell_type": "code",
   "execution_count": null,
   "metadata": {},
   "outputs": [
    {
     "name": "stdout",
     "output_type": "stream",
     "text": [
      "Dataset shape Counter({'Literary': 794, 'Detective and Mystery': 111, 'Sea and Adventure': 36, 'Western Stories': 18, 'Love and Romance': 18, 'Humorous and Wit and Satire': 6, 'Ghost and Horror': 6, 'Christmas Stories': 5, 'Allegories': 2})\n",
      "Dataset shape Counter({'Literary': 794, 'Detective and Mystery': 111, 'Sea and Adventure': 36})\n"
     ]
    }
   ],
   "source": [
    "from imblearn.under_sampling import RandomUnderSampler\n",
    "from collections import Counter\n",
    "print('Dataset shape %s' % Counter(books['genre']))\n",
    "only_majority = books[books['genre'].isin(['Literary', 'Detective and Mystery', 'Sea and Adventure'])]\n",
    "print('Dataset shape %s' % Counter(only_majority['genre']))\n",
    "sm= RandomUnderSampler()\n",
    "X_res, y_res = sm.fit_resample(only_majority['data'], only_majority['genre'])\n",
    "print('Resampled dataset shape %s' % Counter(y_res))"
   ]
  },
  {
   "cell_type": "code",
   "execution_count": 10,
   "metadata": {},
   "outputs": [],
   "source": [
    "import pandas as pd\n",
    "df = pd.read_csv(\"books.csv\")\n",
    "df = pd.DataFrame(df)\n",
    "df = df[['Data', 'guten_genre']]"
   ]
  },
  {
   "cell_type": "code",
   "execution_count": 11,
   "metadata": {},
   "outputs": [
    {
     "data": {
      "text/html": [
       "<div>\n",
       "<style scoped>\n",
       "    .dataframe tbody tr th:only-of-type {\n",
       "        vertical-align: middle;\n",
       "    }\n",
       "\n",
       "    .dataframe tbody tr th {\n",
       "        vertical-align: top;\n",
       "    }\n",
       "\n",
       "    .dataframe thead th {\n",
       "        text-align: right;\n",
       "    }\n",
       "</style>\n",
       "<table border=\"1\" class=\"dataframe\">\n",
       "  <thead>\n",
       "    <tr style=\"text-align: right;\">\n",
       "      <th></th>\n",
       "      <th>Data</th>\n",
       "      <th>guten_genre</th>\n",
       "    </tr>\n",
       "  </thead>\n",
       "  <tbody>\n",
       "    <tr>\n",
       "      <th>0</th>\n",
       "      <td>DEDICATED TO My Brother, ALLAN MELVILLE.\\nNot ...</td>\n",
       "      <td>Sea and Adventure</td>\n",
       "    </tr>\n",
       "    <tr>\n",
       "      <th>1</th>\n",
       "      <td>We were now voyaging straight for Maramma; whe...</td>\n",
       "      <td>Sea and Adventure</td>\n",
       "    </tr>\n",
       "    <tr>\n",
       "      <th>2</th>\n",
       "      <td>\"Looking up, he saw a slender little girl in a...</td>\n",
       "      <td>Sea and Adventure</td>\n",
       "    </tr>\n",
       "    <tr>\n",
       "      <th>3</th>\n",
       "      <td>FROM the heart of a great hill land Glenavelin...</td>\n",
       "      <td>Sea and Adventure</td>\n",
       "    </tr>\n",
       "    <tr>\n",
       "      <th>4</th>\n",
       "      <td>This is a yarn of the days when the clipper sa...</td>\n",
       "      <td>Sea and Adventure</td>\n",
       "    </tr>\n",
       "  </tbody>\n",
       "</table>\n",
       "</div>"
      ],
      "text/plain": [
       "                                                Data        guten_genre\n",
       "0  DEDICATED TO My Brother, ALLAN MELVILLE.\\nNot ...  Sea and Adventure\n",
       "1  We were now voyaging straight for Maramma; whe...  Sea and Adventure\n",
       "2  \"Looking up, he saw a slender little girl in a...  Sea and Adventure\n",
       "3  FROM the heart of a great hill land Glenavelin...  Sea and Adventure\n",
       "4  This is a yarn of the days when the clipper sa...  Sea and Adventure"
      ]
     },
     "execution_count": 11,
     "metadata": {},
     "output_type": "execute_result"
    }
   ],
   "source": [
    "df.head(5)"
   ]
  },
  {
   "cell_type": "code",
   "execution_count": 12,
   "metadata": {},
   "outputs": [],
   "source": [
    "df.to_csv(\"books.csv\")"
   ]
  },
  {
   "cell_type": "code",
   "execution_count": null,
   "metadata": {},
   "outputs": [],
   "source": []
  }
 ],
 "metadata": {
  "kernelspec": {
   "display_name": "Python 3",
   "language": "python",
   "name": "python3"
  },
  "language_info": {
   "codemirror_mode": {
    "name": "ipython",
    "version": 3
   },
   "file_extension": ".py",
   "mimetype": "text/x-python",
   "name": "python",
   "nbconvert_exporter": "python",
   "pygments_lexer": "ipython3",
   "version": "3.7.6"
  }
 },
 "nbformat": 4,
 "nbformat_minor": 2
}
